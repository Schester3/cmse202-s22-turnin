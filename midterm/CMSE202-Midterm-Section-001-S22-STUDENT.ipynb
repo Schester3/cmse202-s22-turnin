{
 "cells": [
  {
   "cell_type": "markdown",
   "metadata": {},
   "source": [
    "## <p style=\"text-align: right;\"> &#9989; Michael Schester</p>"
   ]
  },
  {
   "cell_type": "markdown",
   "metadata": {},
   "source": [
    "# CMSE 202 Midterm (Section 001 - Spring 2022)\n",
    "\n",
    "The goal of this midterm is to give you the opportunity to test out some of the skills that you've developed thus far this semester. In particular, you'll practice setting up a GitHub repository, committing and pushing repository changes, downloading data with command line tools, performing some data analysis, possibly using a new Python package, and writing a python class. You should find that you have all of the skills necessary to complete this exam with even just eight weeks of CMSE 202 under your belt!\n",
    "\n",
    "You are encouraged to look through the entire exam before you get started so that you can appropriately budget your time and understand the broad goals of the exam. Once you've read through it, try doing Parts 1 and 2 first so that you have your repository set up and you download all necessary data files as they will be necessary to complete the assigned tasks. Let your instructor know right away if you have problems downloading the data!\n",
    "\n",
    "The exam is set up so that even if you get stuck on one part there are opportunities to get points on the other parts, so consider jumping ahead if you feel like you aren't making progress and then come back later if you have time.\n",
    "\n",
    "**Important note about using online resources**: This exam is \"open internet\". That means that you can look up documentation, google how to accomplish certain Python tasks, etc. Being able to effectively use the internet for computational modeling and data science is a very important skill, so we want to make sure you have the opportunity to exercise that skill. **However**: The use of any person-to-person communication software is absolutely not acceptable. If you are seen accessing your email, using a chat program (e.g. Slack), or any sort of collaborative cloud storage or document software (e.g. Google Documents), you will be at risk for receiving a zero on the exam.\n",
    "\n",
    "**Keep your eyes on your screen!** Unfortunately, there isn't enough space in the room for everyone to sit at their own table so please do your best to keep your eyes on your own screen. This exam is designed to give *you* the opportunity to show the instructor what you can do and you should hold yourself accountable for maintaining a high level of academic integrity. If any of the instructors observe suspicious behavior, you will, again, risk receiving a zero."
   ]
  },
  {
   "cell_type": "markdown",
   "metadata": {},
   "source": [
    "---\n",
    "## Part 0: Academic integrity statement\n",
    "\n",
    "Read the following statement and edit the markdown text to put your name in the statement. This is your commitment to doing your own authentic work on this exam."
   ]
  },
  {
   "cell_type": "markdown",
   "metadata": {},
   "source": [
    "> I, **Michael Schester**, affirm that this exam represents my own authetic work, without the use of any unpermitted aids or resources or person-to-person communication. I understand that this exam is an opportunity to showcase my own progress in developing and improving my computational skills and have done my best to demonstrate those skills."
   ]
  },
  {
   "cell_type": "markdown",
   "metadata": {},
   "source": [
    "---\n",
    "## Part 1: Add to your Git repository to track your progress on your exam (10 points)\n",
    "\n",
    "Before you get to far along in the exam, you're going to add it to the `cmse202-s22-turnin` repository you created in class so that you can track your progress on the exam and preserve the final version that you turn in. In order to do this you need to\n",
    "\n",
    "**&#9989; Do the following**:\n",
    "\n",
    "1. Navigate to your `cmse202-s22-turnin` repository and create a new directory called `midterm`.\n",
    "2. Move this notebook into that **new directory** in your repository, then **add it and commit it to your repository**.\n",
    "1. Finally, to test that everything is working, \"git push\" the file so that it ends up in your GitHub repository.\n",
    "\n",
    "**Important**: Double check you've added your Professor and your TA as collaborators to your \"turnin\" respository (you should have done this in the previous homework assignment).\n",
    "\n",
    "**Also important**: Make sure that the version of this notebook that you are working on is the same one that you just added to your repository! If you are working on a different copy of the noteobok, **none of your changes will be tracked**!\n",
    "\n",
    "If everything went as intended, the file should now show up on your GitHub account in the \"`cmse202-s22-turnin`\" repository inside the `midterm` directory that you just created.  Periodically, **you'll be asked to commit your changes to the repository and push them to the remote GitHub location**. Of course, you can always commit your changes more often than that, if you wish.  It can be good to get into a habit of committing your changes any time you make a significant modification, or when you stop working on the project for a bit.\n",
    "\n",
    "&#9989; **Do this**: Before you move on, put the command that your instructor should run to clone your repository in the markdown cell below."
   ]
  },
  {
   "cell_type": "markdown",
   "metadata": {},
   "source": [
    "``` bash\n",
    "# git clone https://github.com/Schester3/cmse202-s22-turnin.git\n",
    "\n",
    "```"
   ]
  },
  {
   "cell_type": "markdown",
   "metadata": {},
   "source": [
    "---\n",
    "## Part 2: Downloading and analyzing unfamiliar data (30 points)"
   ]
  },
  {
   "cell_type": "markdown",
   "metadata": {},
   "source": [
    "Online shopping is becoming more and more popular in our everyday life and the market is growing fast. Since customers usually have very different personal preferences of buying different items, it is important for the sellers to know the overall patterns of  customer preferences across multiple items. \n",
    "\n",
    "One benefit of this kind of knowledge is to help the sellers to proactively send advertisements of specific items that certain types of customers may be interested in buying. For example, if customers who buy wines also prefer to buy cheese, then the seller may want to send advertisements of cheese to people who bought wine in her online store. "
   ]
  },
  {
   "cell_type": "markdown",
   "metadata": {},
   "source": [
    "You're going to explore customer's preferences about different items and how they are correlated, using the dataset `online_shopping.csv`.\n",
    "\n",
    "&#9989;&nbsp; **Question 2.1 (2 point):** Download `online_shopping.csv` using a command line tool, and type the command that you used in the cell below.\n",
    "\n",
    "The URL for the dataset is:\n",
    "\n",
    "https://raw.githubusercontent.com/msu-cmse-courses/cmse202-S22-data/main/data/online_shopping.csv"
   ]
  },
  {
   "cell_type": "markdown",
   "metadata": {},
   "source": [
    "``` bash\n",
    "# curl -o online_shopping.csv https://raw.githubusercontent.com/msu-cmse-courses/cmse202-S22-data/main/data/online_shopping.csv\n",
    "\n",
    "```"
   ]
  },
  {
   "cell_type": "markdown",
   "metadata": {},
   "source": [
    "&#9989;&nbsp; **Question 2.2 (3 point):** Load the `online_shopping.csv` file into this notebook, using Pandas."
   ]
  },
  {
   "cell_type": "code",
   "execution_count": 1,
   "metadata": {},
   "outputs": [],
   "source": [
    "# Put your code here:\n",
    "import pandas as pd\n",
    "df = pd.read_csv('online_shopping.csv')\n",
    "\n"
   ]
  },
  {
   "cell_type": "markdown",
   "metadata": {},
   "source": [
    "&#9989;&nbsp; **Question 2.3 (2 point):** Show the first 10 rows of the dataset, in order to get an intuitive understanding."
   ]
  },
  {
   "cell_type": "code",
   "execution_count": 2,
   "metadata": {},
   "outputs": [
    {
     "data": {
      "text/html": [
       "<div>\n",
       "<style scoped>\n",
       "    .dataframe tbody tr th:only-of-type {\n",
       "        vertical-align: middle;\n",
       "    }\n",
       "\n",
       "    .dataframe tbody tr th {\n",
       "        vertical-align: top;\n",
       "    }\n",
       "\n",
       "    .dataframe thead th {\n",
       "        text-align: right;\n",
       "    }\n",
       "</style>\n",
       "<table border=\"1\" class=\"dataframe\">\n",
       "  <thead>\n",
       "    <tr style=\"text-align: right;\">\n",
       "      <th></th>\n",
       "      <th>customer_id</th>\n",
       "      <th>laptop</th>\n",
       "      <th>camera</th>\n",
       "      <th>printer</th>\n",
       "      <th>mathematics_book</th>\n",
       "      <th>coffee_maker</th>\n",
       "    </tr>\n",
       "  </thead>\n",
       "  <tbody>\n",
       "    <tr>\n",
       "      <th>0</th>\n",
       "      <td>customer_1</td>\n",
       "      <td>991.89</td>\n",
       "      <td>14.00</td>\n",
       "      <td>2.74</td>\n",
       "      <td>12.69</td>\n",
       "      <td>3.44</td>\n",
       "    </tr>\n",
       "    <tr>\n",
       "      <th>1</th>\n",
       "      <td>customer_2</td>\n",
       "      <td>683.91</td>\n",
       "      <td>94.02</td>\n",
       "      <td>12.92</td>\n",
       "      <td>28.67</td>\n",
       "      <td>5.26</td>\n",
       "    </tr>\n",
       "    <tr>\n",
       "      <th>2</th>\n",
       "      <td>customer_3</td>\n",
       "      <td>354.40</td>\n",
       "      <td>15.90</td>\n",
       "      <td>3.69</td>\n",
       "      <td>0.77</td>\n",
       "      <td>7.87</td>\n",
       "    </tr>\n",
       "    <tr>\n",
       "      <th>3</th>\n",
       "      <td>customer_4</td>\n",
       "      <td>1265.65</td>\n",
       "      <td>54.49</td>\n",
       "      <td>4.29</td>\n",
       "      <td>63.07</td>\n",
       "      <td>12.62</td>\n",
       "    </tr>\n",
       "    <tr>\n",
       "      <th>4</th>\n",
       "      <td>customer_5</td>\n",
       "      <td>597.93</td>\n",
       "      <td>90.83</td>\n",
       "      <td>11.54</td>\n",
       "      <td>37.03</td>\n",
       "      <td>9.56</td>\n",
       "    </tr>\n",
       "    <tr>\n",
       "      <th>5</th>\n",
       "      <td>customer_6</td>\n",
       "      <td>569.56</td>\n",
       "      <td>68.30</td>\n",
       "      <td>4.59</td>\n",
       "      <td>37.94</td>\n",
       "      <td>8.92</td>\n",
       "    </tr>\n",
       "    <tr>\n",
       "      <th>6</th>\n",
       "      <td>customer_7</td>\n",
       "      <td>523.83</td>\n",
       "      <td>48.42</td>\n",
       "      <td>1.94</td>\n",
       "      <td>35.21</td>\n",
       "      <td>3.29</td>\n",
       "    </tr>\n",
       "    <tr>\n",
       "      <th>7</th>\n",
       "      <td>customer_8</td>\n",
       "      <td>594.59</td>\n",
       "      <td>9.26</td>\n",
       "      <td>1.79</td>\n",
       "      <td>15.96</td>\n",
       "      <td>9.04</td>\n",
       "    </tr>\n",
       "    <tr>\n",
       "      <th>8</th>\n",
       "      <td>customer_9</td>\n",
       "      <td>1703.60</td>\n",
       "      <td>90.54</td>\n",
       "      <td>11.00</td>\n",
       "      <td>14.49</td>\n",
       "      <td>3.43</td>\n",
       "    </tr>\n",
       "    <tr>\n",
       "      <th>9</th>\n",
       "      <td>customer_10</td>\n",
       "      <td>92.50</td>\n",
       "      <td>71.15</td>\n",
       "      <td>6.96</td>\n",
       "      <td>17.64</td>\n",
       "      <td>11.15</td>\n",
       "    </tr>\n",
       "  </tbody>\n",
       "</table>\n",
       "</div>"
      ],
      "text/plain": [
       "   customer_id   laptop  camera  printer  mathematics_book  coffee_maker\n",
       "0   customer_1   991.89   14.00     2.74             12.69          3.44\n",
       "1   customer_2   683.91   94.02    12.92             28.67          5.26\n",
       "2   customer_3   354.40   15.90     3.69              0.77          7.87\n",
       "3   customer_4  1265.65   54.49     4.29             63.07         12.62\n",
       "4   customer_5   597.93   90.83    11.54             37.03          9.56\n",
       "5   customer_6   569.56   68.30     4.59             37.94          8.92\n",
       "6   customer_7   523.83   48.42     1.94             35.21          3.29\n",
       "7   customer_8   594.59    9.26     1.79             15.96          9.04\n",
       "8   customer_9  1703.60   90.54    11.00             14.49          3.43\n",
       "9  customer_10    92.50   71.15     6.96             17.64         11.15"
      ]
     },
     "execution_count": 2,
     "metadata": {},
     "output_type": "execute_result"
    }
   ],
   "source": [
    "# Put your code here:\n",
    "df.head(10)"
   ]
  },
  {
   "cell_type": "markdown",
   "metadata": {},
   "source": [
    "&#9989;&nbsp; **Question 2.4 (3 point):** Show the summary statistics (e.g. mean, quantiles, min and max values) of different columns."
   ]
  },
  {
   "cell_type": "code",
   "execution_count": 3,
   "metadata": {},
   "outputs": [
    {
     "data": {
      "text/html": [
       "<div>\n",
       "<style scoped>\n",
       "    .dataframe tbody tr th:only-of-type {\n",
       "        vertical-align: middle;\n",
       "    }\n",
       "\n",
       "    .dataframe tbody tr th {\n",
       "        vertical-align: top;\n",
       "    }\n",
       "\n",
       "    .dataframe thead th {\n",
       "        text-align: right;\n",
       "    }\n",
       "</style>\n",
       "<table border=\"1\" class=\"dataframe\">\n",
       "  <thead>\n",
       "    <tr style=\"text-align: right;\">\n",
       "      <th></th>\n",
       "      <th>laptop</th>\n",
       "      <th>camera</th>\n",
       "      <th>printer</th>\n",
       "      <th>mathematics_book</th>\n",
       "      <th>coffee_maker</th>\n",
       "    </tr>\n",
       "  </thead>\n",
       "  <tbody>\n",
       "    <tr>\n",
       "      <th>count</th>\n",
       "      <td>1000.000000</td>\n",
       "      <td>1000.000000</td>\n",
       "      <td>1000.000000</td>\n",
       "      <td>1000.000000</td>\n",
       "      <td>1000.000000</td>\n",
       "    </tr>\n",
       "    <tr>\n",
       "      <th>mean</th>\n",
       "      <td>661.749590</td>\n",
       "      <td>50.240540</td>\n",
       "      <td>8.274800</td>\n",
       "      <td>33.742720</td>\n",
       "      <td>7.442280</td>\n",
       "    </tr>\n",
       "    <tr>\n",
       "      <th>std</th>\n",
       "      <td>505.541503</td>\n",
       "      <td>28.314868</td>\n",
       "      <td>11.617972</td>\n",
       "      <td>19.821115</td>\n",
       "      <td>3.505837</td>\n",
       "    </tr>\n",
       "    <tr>\n",
       "      <th>min</th>\n",
       "      <td>0.890000</td>\n",
       "      <td>0.090000</td>\n",
       "      <td>0.000000</td>\n",
       "      <td>0.110000</td>\n",
       "      <td>0.120000</td>\n",
       "    </tr>\n",
       "    <tr>\n",
       "      <th>25%</th>\n",
       "      <td>265.552500</td>\n",
       "      <td>25.795000</td>\n",
       "      <td>2.407500</td>\n",
       "      <td>17.132500</td>\n",
       "      <td>4.830000</td>\n",
       "    </tr>\n",
       "    <tr>\n",
       "      <th>50%</th>\n",
       "      <td>507.915000</td>\n",
       "      <td>50.425000</td>\n",
       "      <td>5.060000</td>\n",
       "      <td>33.180000</td>\n",
       "      <td>7.615000</td>\n",
       "    </tr>\n",
       "    <tr>\n",
       "      <th>75%</th>\n",
       "      <td>1045.625000</td>\n",
       "      <td>73.442500</td>\n",
       "      <td>9.717500</td>\n",
       "      <td>49.965000</td>\n",
       "      <td>9.992500</td>\n",
       "    </tr>\n",
       "    <tr>\n",
       "      <th>max</th>\n",
       "      <td>1799.860000</td>\n",
       "      <td>99.990000</td>\n",
       "      <td>77.560000</td>\n",
       "      <td>69.990000</td>\n",
       "      <td>17.510000</td>\n",
       "    </tr>\n",
       "  </tbody>\n",
       "</table>\n",
       "</div>"
      ],
      "text/plain": [
       "            laptop       camera      printer  mathematics_book  coffee_maker\n",
       "count  1000.000000  1000.000000  1000.000000       1000.000000   1000.000000\n",
       "mean    661.749590    50.240540     8.274800         33.742720      7.442280\n",
       "std     505.541503    28.314868    11.617972         19.821115      3.505837\n",
       "min       0.890000     0.090000     0.000000          0.110000      0.120000\n",
       "25%     265.552500    25.795000     2.407500         17.132500      4.830000\n",
       "50%     507.915000    50.425000     5.060000         33.180000      7.615000\n",
       "75%    1045.625000    73.442500     9.717500         49.965000      9.992500\n",
       "max    1799.860000    99.990000    77.560000         69.990000     17.510000"
      ]
     },
     "execution_count": 3,
     "metadata": {},
     "output_type": "execute_result"
    }
   ],
   "source": [
    "# Put your code here:\n",
    "df.describe()"
   ]
  },
  {
   "cell_type": "markdown",
   "metadata": {},
   "source": [
    "&#9989;&nbsp; **Question 2.5 (4 point):** Make a scatter plot to visualize the relationship between customer's preferences on mathematics_book and coffee_maker.** (mathematics_book on the x-axis, coffee_maker on the y-axis)"
   ]
  },
  {
   "cell_type": "code",
   "execution_count": 5,
   "metadata": {},
   "outputs": [
    {
     "data": {
      "text/plain": [
       "Text(0, 0.5, 'coffee_maker')"
      ]
     },
     "execution_count": 5,
     "metadata": {},
     "output_type": "execute_result"
    },
    {
     "data": {
      "image/png": "[encoded data removed]",
      "text/plain": [
       "<Figure size 432x288 with 1 Axes>"
      ]
     },
     "metadata": {
      "needs_background": "light"
     },
     "output_type": "display_data"
    }
   ],
   "source": [
    "# Put your code here:\n",
    "import matplotlib.pyplot as plt\n",
    "\n",
    "plt.scatter(df[\"mathematics_book\"], df[\"coffee_maker\"])\n",
    "plt.title(\" relationship between customer's preferences on mathematics_book and coffee_maker.\")\n",
    "plt.xlabel(\"mathematics_book\")\n",
    "plt.ylabel(\"coffee_maker\")"
   ]
  },
  {
   "cell_type": "markdown",
   "metadata": {},
   "source": [
    "&#9989;&nbsp; **Question 2.6 (1 point):** Based on the scatter plot, do you observe any pattern/relationship between preferences on math_books and coffee_makers?"
   ]
  },
  {
   "cell_type": "markdown",
   "metadata": {},
   "source": [
    "there seems to be no pattern as the data is all over and there is no correlation"
   ]
  },
  {
   "cell_type": "markdown",
   "metadata": {},
   "source": [
    "&#9989;&nbsp; **Question 2.7 (5 point):** Classify customers into 2 groups based on their preferences on laptops. \n",
    "\n",
    "Group 1: the customer's preference on laptop is higher than the overall mean preference on laptops (i.e. the column mean of the laptops column). \n",
    "\n",
    "Group 2: all other customers.  \n",
    "\n",
    "(Hint: use masking)"
   ]
  },
  {
   "cell_type": "code",
   "execution_count": 10,
   "metadata": {},
   "outputs": [],
   "source": [
    "# Put your code here:\n",
    "g1 = df[\"laptop\"] > df[\"laptop\"].mean()\n",
    "g1 = df[g1]\n",
    "g2 = df[\"laptop\"] <= df[\"laptop\"].mean()\n",
    "g2 = df[g2]\n"
   ]
  },
  {
   "cell_type": "markdown",
   "metadata": {},
   "source": [
    "&#9989;&nbsp; **Question 2.8 (4 point):** Make a scatter plot to visualize the relationship between customer's preferences on mathematics_book and coffee_maker, **only for customers in Group 1**. "
   ]
  },
  {
   "cell_type": "code",
   "execution_count": 11,
   "metadata": {},
   "outputs": [
    {
     "data": {
      "text/plain": [
       "Text(0, 0.5, 'coffee_maker')"
      ]
     },
     "execution_count": 11,
     "metadata": {},
     "output_type": "execute_result"
    },
    {
     "data": {
      "image/png": "[encoded data removed]",
      "text/plain": [
       "<Figure size 432x288 with 1 Axes>"
      ]
     },
     "metadata": {
      "needs_background": "light"
     },
     "output_type": "display_data"
    }
   ],
   "source": [
    "# Put your code here:\n",
    "plt.scatter(g1[\"mathematics_book\"], g1[\"coffee_maker\"])\n",
    "plt.title(\" relationship between customer's preferences on mathematics_book and coffee_maker.\")\n",
    "plt.xlabel(\"mathematics_book\")\n",
    "plt.ylabel(\"coffee_maker\")"
   ]
  },
  {
   "cell_type": "markdown",
   "metadata": {},
   "source": [
    "&#9989;&nbsp; **Question 2.9 (1 point):** Now, conditioned on the customer's preferences on laptops (i.e. Group 1 customers), do you observe any pattern/relationship between preferences on math_books and coffee_makers?"
   ]
  },
  {
   "cell_type": "markdown",
   "metadata": {},
   "source": [
    "there seems to be a corralation now as the data has a positive linear trend \n"
   ]
  },
  {
   "cell_type": "markdown",
   "metadata": {},
   "source": [
    "---\n",
    "### &#128721; STOP\n",
    "**Pause to commit your changes to your Git repository!**\n",
    "\n",
    "Take a moment to save your notebook, commit the changes to your Git repository using the commit message \"**Committing Part 2**\", and push the changes to GitHub.\n",
    "\n",
    "---"
   ]
  },
  {
   "cell_type": "markdown",
   "metadata": {},
   "source": [
    "---\n",
    "## Part 3: Working with a new Python package (20 points)"
   ]
  },
  {
   "cell_type": "markdown",
   "metadata": {},
   "source": [
    "&#9989;&nbsp; **Question 3.1 (5 points):** In the cell below, install the package `pyvis`, which is a useful tool to visualize networks interactively."
   ]
  },
  {
   "cell_type": "code",
   "execution_count": null,
   "metadata": {},
   "outputs": [],
   "source": [
    "# Put your code here:\n"
   ]
  },
  {
   "cell_type": "markdown",
   "metadata": {},
   "source": [
    "If the package is installed successfully, remember to restart the Kernel.\n",
    "\n",
    "And run the cell below to import the packages `pyvis` and `networkx`"
   ]
  },
  {
   "cell_type": "code",
   "execution_count": 13,
   "metadata": {},
   "outputs": [],
   "source": [
    "from pyvis import network as net\n",
    "import networkx as nx"
   ]
  },
  {
   "cell_type": "markdown",
   "metadata": {},
   "source": [
    "&#9989;&nbsp; **Question 3.2 (5 points):** In `networkx`, there are already many built-in networks. One of the built-in networks is the `coappearance network of characters in the novel Les Miserables`. \n",
    "\n",
    "Do some search online and find the function in `networkx` that can be used to generate the built-in coappearance network of characters in the novel Les Miserables.\n",
    "\n",
    "Note: name the output from the function, which is a graph object, as `co_character`"
   ]
  },
  {
   "cell_type": "code",
   "execution_count": null,
   "metadata": {},
   "outputs": [],
   "source": [
    "# Put your code here:\n"
   ]
  },
  {
   "cell_type": "markdown",
   "metadata": {},
   "source": [
    "&#9989;&nbsp; **Question 3.3 (5 points):** The code in the cell below translates the graph (`co_character`) and constructs a pyvis network.\n",
    "\n",
    "Add your code into the cell to show the pyvis network, which is a nice interactive visualiztion of the graph.\n",
    "\n",
    "Hint: look for a function provided by the pyvis package to show the network."
   ]
  },
  {
   "cell_type": "code",
   "execution_count": 16,
   "metadata": {},
   "outputs": [],
   "source": [
    "net_vis = net.Network(notebook=True, width='800px', height='600px', heading='Coappearance network of characters in the novel Les Miserables')\n",
    "net_vis.from_nx(co_character)\n",
    "\n",
    "# Put your code here to show the network:\n"
   ]
  },
  {
   "cell_type": "markdown",
   "metadata": {},
   "source": [
    "&#9989;&nbsp; **Question 3.4 (5 points):** The variable `net_vis` in the cell above is a new type of object that we are not quite familiar with. Show the list of attributes and methods of it."
   ]
  },
  {
   "cell_type": "code",
   "execution_count": null,
   "metadata": {},
   "outputs": [],
   "source": [
    "# Put your code here:\n"
   ]
  },
  {
   "cell_type": "markdown",
   "metadata": {},
   "source": [
    "---\n",
    "### &#128721; STOP\n",
    "**Pause to commit your changes to your Git repository!**\n",
    "\n",
    "Take a moment to save your notebook, commit the changes to your Git repository using the commit message \"**Committing Part 3**\", and push the changes to GitHub.\n",
    "\n",
    "---"
   ]
  },
  {
   "cell_type": "markdown",
   "metadata": {},
   "source": [
    "---\n",
    "## Part 4: Writing and using Python classes (40 points)"
   ]
  },
  {
   "cell_type": "markdown",
   "metadata": {},
   "source": [
    "Let's create a new class called `Robots`. Each robot has two attributes: 1) name; and 2) kind. \n",
    "\n",
    "For \"kind\", there are two kinds of robots: 1) kind is `square`: the robot can calculate the square of the provided number; 2) kind is `square_root`: the robot can calculate the square root of the provided number;\n",
    "\n",
    "In the cell below, some basic functions are provided for the `Robots` class. But the constructor function and the \"do_job\" function are not completed. \n",
    "\n",
    "&#9989;&nbsp; **Question 4.1 (10 points): Put your code in the cell below to complete the 2 functions.**\n",
    "\n",
    "Note: for \"do_job\" function, it decides to do different calculations (square or square_root) based on \"kind\" and return the calculated value. "
   ]
  },
  {
   "cell_type": "code",
   "execution_count": null,
   "metadata": {},
   "outputs": [],
   "source": [
    "# Put your code below.\n",
    "\n",
    "class Robots():\n",
    "    '''\n",
    "        Class for Robots object.\n",
    "        Two attributes: name and kind\n",
    "    '''\n",
    "    \n",
    "    def __init__(self, name):\n",
    "        ''' Initialize robots class. '''\n",
    "        ''' Put your code here to complete this function '''\n",
    "        \n",
    "        \n",
    "        \n",
    "        return\n",
    "    \n",
    "    \n",
    "    def set_name(self, name):\n",
    "        ''' Sets robot's name. '''\n",
    "        self.name = name\n",
    "        return\n",
    "    \n",
    "    def get_name(self):\n",
    "        ''' Return robot's name. '''\n",
    "        return self.name\n",
    "\n",
    "    def set_job(self, kind):\n",
    "        ''' Sets robot's name. '''\n",
    "        self.kind = kind\n",
    "        return\n",
    "    \n",
    "    def get_job(self):\n",
    "        ''' Return robot's name. '''\n",
    "        return self.kind\n",
    "    \n",
    "    \n",
    "    def do_job(self, num):\n",
    "        ''' Set robot's job. '''\n",
    "        ''' Put your code here to complete this function'''\n",
    "        '''based on the attribute of kind, do different calculations on num and then return the result'''\n",
    "        \n",
    "        \n",
    "        \n",
    "        return \n",
    "    "
   ]
  },
  {
   "cell_type": "markdown",
   "metadata": {},
   "source": [
    "&#9989;&nbsp; **Question 4.2 (10 points): Create two instances of Robots**. One is named as \"alex\", with kind set to be \"square\". The other one is named as \"tom\", with kind set to be \"square_root\".\n",
    "\n",
    "Then ask \"alex\" to calculate the square of 3, which is saved as a variable 'y'.\n",
    "And ask \"tom\" to calculate the square root of 'y'."
   ]
  },
  {
   "cell_type": "code",
   "execution_count": null,
   "metadata": {},
   "outputs": [],
   "source": [
    "# Put your code here:\n",
    "\n"
   ]
  },
  {
   "cell_type": "markdown",
   "metadata": {},
   "source": [
    "&#9989;&nbsp; **Question 4.3 (10 points): Create a new class** `square_Robots`, which inherit from `Robots`.    \n",
    "\n",
    "`square_Robots` has the \"kind\" attribute set to be \"square\". In addition, `square_Robots` has one additional method `integer_square`, which can print out the list of squares for the first 5 positive integers (i.e. 1, 2, 3, 4, 5).\n"
   ]
  },
  {
   "cell_type": "code",
   "execution_count": null,
   "metadata": {},
   "outputs": [],
   "source": [
    "# Put your code here:\n"
   ]
  },
  {
   "cell_type": "markdown",
   "metadata": {},
   "source": [
    "&#9989;&nbsp; **Question 4.4 (10 points): Create an instance of square_Robots**, who is named as \"jean\".\n",
    "\n",
    "Then ask \"jean\" to print out the list of squares for the first 5 positive integers."
   ]
  },
  {
   "cell_type": "code",
   "execution_count": null,
   "metadata": {},
   "outputs": [],
   "source": [
    "# Put your code here:\n"
   ]
  },
  {
   "cell_type": "markdown",
   "metadata": {},
   "source": [
    "---\n",
    "### &#128721; STOP\n",
    "**Pause to commit your changes to your Git repository!**\n",
    "\n",
    "Take a moment to save your notebook, commit the changes to your Git repository using the commit message \"**Committing Part 4**\", and push the changes to GitHub.\n",
    "\n",
    "---"
   ]
  },
  {
   "cell_type": "markdown",
   "metadata": {},
   "source": [
    "## You're done! Congrats on finishing your CMSE 202 Midterm!\n",
    "\n",
    "Make sure all of your changes to your repository are committed and pushed to GitHub. Also upload a copy of this notebook to the dropbox on D2L in case something went wrong with your repository or if you couldn't get the repository to work."
   ]
  }
 ],
 "metadata": {
  "kernelspec": {
   "display_name": "Python 3",
   "language": "python",
   "name": "python3"
  },
  "language_info": {
   "codemirror_mode": {
    "name": "ipython",
    "version": 3
   },
   "file_extension": ".py",
   "mimetype": "text/x-python",
   "name": "python",
   "nbconvert_exporter": "python",
   "pygments_lexer": "ipython3",
   "version": "3.8.8"
  }
 },
 "nbformat": 4,
 "nbformat_minor": 4
}
