{
 "cells": [
  {
   "cell_type": "markdown",
   "metadata": {},
   "source": [
    "## <p style=\"text-align: right;\"> &#9989; Michael Schester</p>"
   ]
  },
  {
   "cell_type": "markdown",
   "metadata": {},
   "source": [
    "# CMSE 202 Final (Section 001 - Spring 2022)\n",
    "\n",
    "The goal of this final is to give you the opportunity to test out some of the skills that you've developed having now finished CMSE 202. In particular, you'll be committing and pushing repository changes to a GitHub repository, working with data to build a network graph, performing regression analysis, and classifying data using a machine learning classifier. You should find that you have all of the skills necessary to complete this exam having completed the second half of CMSE 202!\n",
    "\n",
    "You are encouraged to look through the entire exam before you get started so that you can appropriately budget your time and understand the broad goals of the exam. Once you've read through it, you'll probably want to make sure you do Part 1 first to ensure that your GitHub repository is working correctly. Let your instructor know right away if you run into issues!\n",
    "\n",
    "The exam is set up so that even if you get stuck on one part there are opportunities to get points on the other parts, so consider jumping ahead if you feel like you aren't making progress and then come back later if you have time.\n",
    "\n",
    "**Important note about using online resources**: This exam is \"open internet\". That means that you can look up documentation, google how to accomplish certain Python tasks, etc. Being able to effectively use the internet for computational modeling and data science is a very important skill, so we want to make sure you have the opportunity to exercise that skill. **However**: The use of any person-to-person communication software is absolutely not acceptable. If you are seen accessing your email, using a chat program (e.g. Slack), or any sort of collaborative cloud storage or document software (e.g. Google Documents), you will be at risk for receiving a zero on the exam.\n",
    "\n",
    "**Keep your eyes on your screen!** Unfortunately, there isn't enough space in the room for everyone to sit at their own table so please do your best to keep your eyes on your own screen. This exam is designed to give *you* the opportunity to show the instructor what you can do and you should hold yourself accountable for maintaining a high level of academic integrity. If any of the instructors observe suspicious behavior, you will, again, risk receiving a zero. If you're completing the exam virtually, the same standards of academic integrity apply!"
   ]
  },
  {
   "cell_type": "markdown",
   "metadata": {},
   "source": [
    "---\n",
    "## Part 0: Academic integrity statement\n",
    "\n",
    "Read the following statement and edit the markdown text to put your name in the statement. This is your commitment to doing your own authentic work on this exam."
   ]
  },
  {
   "cell_type": "markdown",
   "metadata": {},
   "source": [
    "> I, **Michael Schester**, affirm that this exam represents my own authetic work, without the use of any unpermitted aids or resources or person-to-person communication. I understand that this exam an an opportunity to showcase my own progress in developing and improving my computational skills and have done my best to demonstrate those skills."
   ]
  },
  {
   "cell_type": "markdown",
   "metadata": {},
   "source": [
    "---\n",
    "## Part 1: Add to your Git repository to track your progress on your exam (10 points)\n",
    "\n",
    "Before you get to far along in the exam, you're going to add it to the `cmse202-s22-turnin` repository you created in class so that you can track your progress on the exam and preserve the final version that you turn in. In order to do this you need to\n",
    "\n",
    "**&#9989; Do the following**:\n",
    "\n",
    "1. Navigate to your `cmse202-s22-turnin` repository and create a new directory called `final`.\n",
    "2. Move this notebook into that **new directory** in your repository, then **add it and commit it to your repository**.\n",
    "1. Finally, to test that everything is working, \"git push\" the file so that it ends up in your GitHub repository.\n",
    "\n",
    "**Important**: Double check you've added your Professor and your TA as collaborators to your \"turnin\" respository (you should have done this in the previous homework assignment).\n",
    "\n",
    "**Also important**: Make sure that the version of this notebook that you are working on is the same one that you just added to your repository! If you are working on a different copy of the noteobok, **none of your changes will be tracked**!\n",
    "\n",
    "If everything went as intended, the file should now show up on your GitHub account in the \"`cmse202-s22-turnin`\" repository inside the `final` directory that you just created.  Periodically, **you'll be asked to commit your changes to the repository and push them to the remote GitHub location**. Of course, you can always commit your changes more often than that, if you wish.  It can be good to get into a habit of committing your changes any time you make a significant modification, or when you stop working on the project for a bit.\n",
    "\n",
    "&#9989; **Do this**: Before you move on, put the command that your instructor should run to clone your repository in the markdown cell below."
   ]
  },
  {
   "cell_type": "markdown",
   "metadata": {},
   "source": [
    "``` bash\n",
    "# git clone https://github.com/Schester3/cmse202-s22-turnin.git\n",
    "\n",
    "```"
   ]
  },
  {
   "cell_type": "markdown",
   "metadata": {},
   "source": [
    "---\n",
    "## Part 2: Generate a network graph from data (30 points)"
   ]
  },
  {
   "cell_type": "markdown",
   "metadata": {},
   "source": [
    "The image below shows a simple graph with 4 nodes (nodes 0, 1, 2 and 3) and some edges connecting them. \n",
    "\n",
    "![final_graph.png](https://raw.githubusercontent.com/msu-cmse-courses/cmse202-S22-data/main/data/final_graph.png)\n",
    "\n",
    "&#9989;&nbsp; **Question 1 (8 points):**  Create a dictionary as the adjacency list for the graph above, where the key for each element is a node and the value for each element is a list of connected nodes."
   ]
  },
  {
   "cell_type": "code",
   "execution_count": 11,
   "metadata": {},
   "outputs": [],
   "source": [
    "# Put your code here:\n",
    "d = {0:[1], 1:[0,2,3], 2:[1,3], 3:[1,2]}"
   ]
  },
  {
   "cell_type": "markdown",
   "metadata": {},
   "source": [
    "&#9989;&nbsp; **Question 2 (8 points):**  Convert the adjacency list into a graph object, using Networkx.\n",
    "\n",
    "And then show the list of all edges in this graph, which is an attribute of the graph object.\n",
    "\n",
    "Remember to import the package first."
   ]
  },
  {
   "cell_type": "code",
   "execution_count": 16,
   "metadata": {},
   "outputs": [],
   "source": [
    "# Put your code here:\n",
    "import numpy as np\n",
    "import networkx as nx\n",
    "\n",
    "g = nx.Graph(d)\n",
    "# nx.draw(g)"
   ]
  },
  {
   "cell_type": "markdown",
   "metadata": {},
   "source": [
    "&#9989;&nbsp; **Question 3 (8 points):**  The positions (x- and y-coordinates) for each node is specified below. \n",
    "\n",
    "Node 0: [0,3]\n",
    "\n",
    "Node 1: [1,1.5]\n",
    "\n",
    "Node 2: [2,3]\n",
    "\n",
    "Node 3: [3,0]\n",
    "\n",
    "Create a dictionary to store the position information. And then visualize the graph, with the nodes allocated by positions. And show node labels in the graph.\n"
   ]
  },
  {
   "cell_type": "code",
   "execution_count": 17,
   "metadata": {},
   "outputs": [
    {
     "data": {
      "image/png": "[encoded data removed]",
      "text/plain": [
       "<Figure size 432x288 with 1 Axes>"
      ]
     },
     "metadata": {},
     "output_type": "display_data"
    }
   ],
   "source": [
    "# Put your code here:\n",
    "positions = {0:(0,3), 1:(1,1.5), 2:(2,3), 3:(3,0)}\n",
    "nx.draw(g, pos=positions, with_labels = True)"
   ]
  },
  {
   "cell_type": "markdown",
   "metadata": {},
   "source": [
    "&#9989;&nbsp; **Question 4 (6 points):** Now let's add one more node, node 4, into the graph. And node 4 just has one edge, which connects node 4 to node 2.  (Networkx provides the functions to add nodes and edges.)\n",
    "\n",
    "The position for node 4 is: [3,3]\n",
    "\n",
    "Add the new node and the new edge to the graph and then visualize the expanded graph."
   ]
  },
  {
   "cell_type": "code",
   "execution_count": 24,
   "metadata": {
    "scrolled": true
   },
   "outputs": [
    {
     "data": {
      "image/png": "[encoded data removed]",
      "text/plain": [
       "<Figure size 432x288 with 1 Axes>"
      ]
     },
     "metadata": {},
     "output_type": "display_data"
    }
   ],
   "source": [
    "# Put your code here:\n",
    "g.add_node(4)\n",
    "g.add_edge(2,4)\n",
    "positions = {0:(0,3), 1:(1,1.5), 2:(2,3), 3:(3,0), 4:(3,3)}\n",
    "nx.draw(g, pos=positions, with_labels = True)"
   ]
  },
  {
   "cell_type": "markdown",
   "metadata": {},
   "source": [
    "---\n",
    "### &#128721; STOP\n",
    "**Pause to commit your changes to your Git repository!**\n",
    "m\n",
    "Take a moment to save your notebook, commit the changes to your Git repository using the commit message \"**Committing Part 2**\", and push the changes to GitHub.\n",
    "\n",
    "---"
   ]
  },
  {
   "cell_type": "markdown",
   "metadata": {},
   "source": [
    "---\n",
    "## Part 3: Perform a regression analysis on data (30 points)"
   ]
  },
  {
   "cell_type": "markdown",
   "metadata": {},
   "source": [
    "&#9989;&nbsp; **Question 5 (5 points):** A data file \"data_exam.txt\" is provided in D2L. Each row is a data point. The first 3 columns are the 3 independent variables (x1, x2, x3). The 4th column is the dependent variable (y). \n",
    "\n",
    "Load the data and save it as a Pandas dataframe. (Note: there is no column header in the file as the first row. The separator between columns is tab.)\n",
    "\n",
    "And name the 4 columns as: x1, x2, x3, and y. "
   ]
  },
  {
   "cell_type": "code",
   "execution_count": 79,
   "metadata": {},
   "outputs": [
    {
     "name": "stdout",
     "output_type": "stream",
     "text": [
      "      x1     x2     x3       y\n",
      "0  0.583  1.558 -7.282  21.971\n",
      "1  3.632  1.941  3.509   9.510\n",
      "2  1.427  2.057 -2.937  13.065\n",
      "3  2.197  4.043  1.256  10.195\n",
      "4  1.780  0.009  6.434  -3.493\n"
     ]
    }
   ],
   "source": [
    "# Put your code here:\n",
    "import pandas as pd;\n",
    "\n",
    "df = pd.read_csv(\"data_exam.txt\", delimiter=\"\\t\", names=['x1', 'x2', 'x3', 'y'])\n",
    "dfc = df.copy()\n",
    "\n",
    "print(df.head())\n",
    "del dfc['y']"
   ]
  },
  {
   "cell_type": "markdown",
   "metadata": {},
   "source": [
    "&#9989;&nbsp; **Question 6 (10 points):** Use the package statsmodels to build a multivariable regression model for the data: $$y=a + bx1 + cx2 + dx3$$ \n",
    "\n",
    "Note: you need to add the constant term before building the regression model."
   ]
  },
  {
   "cell_type": "code",
   "execution_count": 80,
   "metadata": {},
   "outputs": [],
   "source": [
    "# Put your code here:\n",
    "import statsmodels.api as sm;\n",
    "\n",
    "x_with_cnst = sm.add_constant(dfc)\n",
    "model = sm.OLS(df.y, x_with_cnst)\n"
   ]
  },
  {
   "cell_type": "markdown",
   "metadata": {},
   "source": [
    "&#9989;&nbsp; **Question 7 (5 points):** Show the statistical summary table of the fitted regression model. "
   ]
  },
  {
   "cell_type": "code",
   "execution_count": 81,
   "metadata": {},
   "outputs": [
    {
     "name": "stdout",
     "output_type": "stream",
     "text": [
      "                            OLS Regression Results                            \n",
      "==============================================================================\n",
      "Dep. Variable:                      y   R-squared:                       0.813\n",
      "Model:                            OLS   Adj. R-squared:                  0.807\n",
      "Method:                 Least Squares   F-statistic:                     139.3\n",
      "Date:                Thu, 05 May 2022   Prob (F-statistic):           7.53e-35\n",
      "Time:                        08:50:10   Log-Likelihood:                -272.58\n",
      "No. Observations:                 100   AIC:                             553.2\n",
      "Df Residuals:                      96   BIC:                             563.6\n",
      "Df Model:                           3                                         \n",
      "Covariance Type:            nonrobust                                         \n",
      "==============================================================================\n",
      "                 coef    std err          t      P>|t|      [0.025      0.975]\n",
      "------------------------------------------------------------------------------\n",
      "const          5.4849      0.465     11.797      0.000       4.562       6.408\n",
      "x1             2.7078      0.202     13.414      0.000       2.307       3.108\n",
      "x2            -0.0582      0.135     -0.430      0.668      -0.327       0.210\n",
      "x3            -1.5329      0.092    -16.595      0.000      -1.716      -1.350\n",
      "==============================================================================\n",
      "Omnibus:                       11.991   Durbin-Watson:                   1.413\n",
      "Prob(Omnibus):                  0.002   Jarque-Bera (JB):               19.843\n",
      "Skew:                           0.489   Prob(JB):                     4.91e-05\n",
      "Kurtosis:                       4.951   Cond. No.                         5.70\n",
      "==============================================================================\n",
      "\n",
      "Notes:\n",
      "[1] Standard Errors assume that the covariance matrix of the errors is correctly specified.\n"
     ]
    }
   ],
   "source": [
    "# Put your code here:\n",
    "results = model.fit()\n",
    "print(results.summary())"
   ]
  },
  {
   "cell_type": "markdown",
   "metadata": {},
   "source": [
    "&#9989;&nbsp; **Question 8 (5 points):** What is the value of adjusted R-squared? And which features have a p-value<0.05?"
   ]
  },
  {
   "cell_type": "markdown",
   "metadata": {},
   "source": [
    "**Put your answer here**:\n",
    "R-squared: 0.813\n",
    "\n",
    "Features with p-value<0.05: x1 and x3\n",
    "\n"
   ]
  },
  {
   "cell_type": "markdown",
   "metadata": {},
   "source": [
    "&#9989;&nbsp; **Question 9 (5 points):** Make plots of the fitted values and the residuals, for the feature x1."
   ]
  },
  {
   "cell_type": "code",
   "execution_count": 85,
   "metadata": {},
   "outputs": [
    {
     "data": {
      "text/plain": [
       "(-20.0, 39.0)"
      ]
     },
     "execution_count": 85,
     "metadata": {},
     "output_type": "execute_result"
    },
    {
     "data": {
      "image/png": "[encoded data removed]",
      "text/plain": [
       "<Figure size 432x288 with 1 Axes>"
      ]
     },
     "metadata": {
      "needs_background": "light"
     },
     "output_type": "display_data"
    }
   ],
   "source": [
    "# Put your code here:\n",
    "import matplotlib.pyplot as plt\n",
    "plt.scatter(df.y, df.x1)\n",
    "plt.plot(results.predict(), \"red\")\n",
    "plt.xlim(-20,39)"
   ]
  },
  {
   "cell_type": "markdown",
   "metadata": {},
   "source": [
    "---\n",
    "### &#128721; STOP\n",
    "**Pause to commit your changes to your Git repository!**\n",
    "\n",
    "Take a moment to save your notebook, commit the changes to your Git repository using the commit message \"**Committing Part 3**\", and push the changes to GitHub.\n",
    "\n",
    "---"
   ]
  },
  {
   "cell_type": "markdown",
   "metadata": {},
   "source": [
    "---\n",
    "## Part 4: Perform a support vector machine (SVM) classification on data (30 points)"
   ]
  },
  {
   "cell_type": "markdown",
   "metadata": {},
   "source": [
    "We are going to use the Iris dataset to do a practice of training SVM classifiers. The Iris data has been posted on D2L.\n",
    "\n",
    "Run the code below to load the 'iris.data' file into the notebook as a dataframe. There are 5 columns, which are named as \"sepal_l\", \"sepal_w\", \"petal_l\", \"petal_w\", \"class\". The 3 categories of species are replaced by integer class labels ('Iris-setosa'=1, \"Iris-versicolor\"=1, \"Iris-virginica\"=0)."
   ]
  },
  {
   "cell_type": "code",
   "execution_count": 37,
   "metadata": {},
   "outputs": [],
   "source": [
    "df = pd.read_csv(\"iris.data\", delim_whitespace=True, names=[\"sepal_l\", \"sepal_w\", \"petal_l\", \"petal_w\", \"class\"])\n",
    "\n",
    "df['class'].replace({'Iris-setosa':1, \"Iris-versicolor\":1, \"Iris-virginica\":0}, inplace=True)"
   ]
  },
  {
   "cell_type": "markdown",
   "metadata": {},
   "source": [
    "&#9989;&nbsp; **Question 10 (2 points):**  Create a 'feature' dataframe from the original dataframe, by dropping the last 'class' column (So the feature dataframe contains 4 columns for the features. The rows are data points.). \n",
    "\n",
    "And create a 'labels' dataframe (a single-column dataframe), based on the 'class' column.  "
   ]
  },
  {
   "cell_type": "code",
   "execution_count": null,
   "metadata": {},
   "outputs": [],
   "source": [
    "# Put your code here:\n"
   ]
  },
  {
   "cell_type": "markdown",
   "metadata": {},
   "source": [
    "&#9989;&nbsp; **Question 11 (5 points):** Split the 'feature' and 'labels' into a training set and a testing set.  75% of data points assigned as training data and 25% of data points assigned as testing data.\n",
    "\n",
    "You are exptected to get training feature, testing feature, training lables and testing labels.\n",
    "\n",
    "Note: remember to import the package."
   ]
  },
  {
   "cell_type": "code",
   "execution_count": null,
   "metadata": {},
   "outputs": [],
   "source": [
    "# Put your code here:\n"
   ]
  },
  {
   "cell_type": "markdown",
   "metadata": {},
   "source": [
    "&#9989;&nbsp; **Question 12 (5 points):** Construct and fit a SVC model based on the training feature and training labels.\n",
    "\n",
    "Note: train the SVC model using 'linear' kernel, and set the parameter 'C' as 0.1\n",
    "\n",
    "Note: remember to import the package."
   ]
  },
  {
   "cell_type": "code",
   "execution_count": null,
   "metadata": {},
   "outputs": [],
   "source": [
    "# Put your code here:\n"
   ]
  },
  {
   "cell_type": "markdown",
   "metadata": {},
   "source": [
    "&#9989;&nbsp; **Question 13 (3 points):** Use the trained SVC model from the last step, predict the labels for testing dataset (testing features). "
   ]
  },
  {
   "cell_type": "code",
   "execution_count": null,
   "metadata": {},
   "outputs": [],
   "source": [
    "# Put your code here:\n"
   ]
  },
  {
   "cell_type": "markdown",
   "metadata": {},
   "source": [
    "&#9989;&nbsp; **Question 14 (5 points):** Print out the classification report about the accuracy of predicted labels, compared to the labels of the testing dataset (testing labels). \n",
    "\n",
    "Note: remember to import the package."
   ]
  },
  {
   "cell_type": "code",
   "execution_count": null,
   "metadata": {},
   "outputs": [],
   "source": [
    "# Put your code here:\n"
   ]
  },
  {
   "cell_type": "markdown",
   "metadata": {},
   "source": [
    "&#9989;&nbsp; **Question 15 (5 points):** In the classification report, there are multiple metrics about the performance of your model. Explain what are the meanings of 'precision', 'recall' and 'f1-score'."
   ]
  },
  {
   "cell_type": "markdown",
   "metadata": {},
   "source": [
    "**Put your answer here**:\n"
   ]
  },
  {
   "cell_type": "markdown",
   "metadata": {},
   "source": [
    "&#9989;&nbsp; **Question 16 (5 points):** Explain what does the 'C' parameter control when you train SVC. "
   ]
  },
  {
   "cell_type": "markdown",
   "metadata": {},
   "source": [
    "**Put your answer here**:\n"
   ]
  },
  {
   "cell_type": "markdown",
   "metadata": {},
   "source": [
    "---\n",
    "### &#128721; STOP\n",
    "**Pause to commit your changes to your Git repository!**\n",
    "\n",
    "Take a moment to save your notebook, commit the changes to your Git repository using the commit message \"**Committing Part 4**\", and push the changes to GitHub.\n",
    "\n",
    "---"
   ]
  },
  {
   "cell_type": "markdown",
   "metadata": {},
   "source": [
    "## You're done! Congrats on finishing your CMSE 202 Final!\n",
    "\n",
    "Make sure all of your changes to your repository are committed and pushed to GitHub. Also upload a copy of this notebook to the dropbox on D2L in case something went wrong with your repository or if you couldn't get the repository to work."
   ]
  }
 ],
 "metadata": {
  "kernelspec": {
   "display_name": "Python 3",
   "language": "python",
   "name": "python3"
  },
  "language_info": {
   "codemirror_mode": {
    "name": "ipython",
    "version": 3
   },
   "file_extension": ".py",
   "mimetype": "text/x-python",
   "name": "python",
   "nbconvert_exporter": "python",
   "pygments_lexer": "ipython3",
   "version": "3.8.8"
  }
 },
 "nbformat": 4,
 "nbformat_minor": 4
}
